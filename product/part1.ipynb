{
 "cells": [
  {
   "cell_type": "code",
   "execution_count": 1,
   "metadata": {},
   "outputs": [],
   "source": [
    "# pip install requests"
   ]
  },
  {
   "cell_type": "code",
   "execution_count": 2,
   "metadata": {},
   "outputs": [],
   "source": [
    "import requests\n",
    "import json\n",
    "import os\n",
    "from requests.utils import quote\n",
    "import threading\n",
    "from queue import Queue"
   ]
  },
  {
   "cell_type": "code",
   "execution_count": 3,
   "metadata": {},
   "outputs": [],
   "source": [
    "output_dir = \"output\"\n",
    "os.makedirs(output_dir, exist_ok=True)"
   ]
  },
  {
   "cell_type": "code",
   "execution_count": 4,
   "metadata": {},
   "outputs": [],
   "source": [
    "GITHUB_REPO = \"ashishchauhan0001/CampusNest\"\n",
    "GITHUB_TOKEN = os.getenv(\"GITHUB_PAT\")\n",
    "HEADERS = {\"Authorization\": f\"token {GITHUB_TOKEN}\"}"
   ]
  },
  {
   "cell_type": "code",
   "execution_count": 5,
   "metadata": {},
   "outputs": [
    {
     "name": "stdout",
     "output_type": "stream",
     "text": [
      "Default branch: main\n"
     ]
    }
   ],
   "source": [
    "def get_default_branch():\n",
    "    url = f\"https://api.github.com/repos/{GITHUB_REPO}\"\n",
    "    response = requests.get(url, headers=HEADERS)\n",
    "    if response.status_code == 200:\n",
    "        return response.json().get(\"default_branch\", \"main\")\n",
    "    return \"main\"\n",
    "\n",
    "DEFAULT_BRANCH = get_default_branch()\n",
    "print(f\"Default branch: {DEFAULT_BRANCH}\")"
   ]
  },
  {
   "cell_type": "code",
   "execution_count": 6,
   "metadata": {},
   "outputs": [],
   "source": [
    "def get_repo_contents(path=\"\"):\n",
    "    url = f\"https://api.github.com/repos/{GITHUB_REPO}/contents/{quote(path)}\"\n",
    "    response = requests.get(url, headers=HEADERS)\n",
    "    \n",
    "    if response.status_code == 200:\n",
    "        return response.json()\n",
    "    else:\n",
    "        print(f\"[ERROR] Failed to fetch {url}: {response.status_code}\")\n",
    "        return []"
   ]
  },
  {
   "cell_type": "code",
   "execution_count": 7,
   "metadata": {},
   "outputs": [],
   "source": [
    "def get_file_content(file_path):\n",
    "    url = f\"https://raw.githubusercontent.com/{GITHUB_REPO}/{DEFAULT_BRANCH}/{quote(file_path)}\"\n",
    "    response = requests.get(url)\n",
    "\n",
    "    if response.status_code == 200:\n",
    "        return response.text\n",
    "    return None"
   ]
  },
  {
   "cell_type": "code",
   "execution_count": 8,
   "metadata": {},
   "outputs": [],
   "source": [
    "file_data_lock = threading.Lock()\n",
    "dependencies_lock = threading.Lock()"
   ]
  },
  {
   "cell_type": "code",
   "execution_count": 9,
   "metadata": {},
   "outputs": [],
   "source": [
    "def analyze_repo(path=\"\", max_threads=8):\n",
    "    repo_structure = get_repo_contents(path)\n",
    "    file_data = []\n",
    "    dependencies = []\n",
    "    \n",
    "    skip_files = {\n",
    "        \".gitignore\", \"README.md\", \"LICENSE\", \".dockerignore\",\n",
    "        \".env\", \".editorconfig\", \"package-lock.json\", \"node_modules\"\n",
    "    }\n",
    "    skip_extensions = {\n",
    "        \".png\", \".jpg\", \".jpeg\", \".gif\", \".ico\", \".pdf\", \".svg\",\n",
    "        \".zip\", \".tar\", \".gz\", \".exe\", \".dll\", \".so\", \".jar\",\n",
    "        \".bin\", \".lock\", \".mp4\", \".mkv\", \".mp3\", \".m3u8\", \".mov\",\n",
    "        \".avi\", \".flv\", \".webm\", \".wav\", \".aac\", \".ogg\", \".opus\",\n",
    "        \".m4a\", \".3gp\", \".3g2\", \".wma\", \".doc\", \".docx\", \".xls\",\n",
    "        \".xlsx\", \".ppt\", \".pptx\", \".odt\", \".ods\", \".odp\", \".csv\",\n",
    "        \".json\", \".xml\", \".yaml\", \".yml\", \".html\", \".css\"\n",
    "    }\n",
    "\n",
    "    file_queue = Queue()\n",
    "    \n",
    "    def process_file_worker():\n",
    "        while True:\n",
    "            item = file_queue.get()\n",
    "            if item is None:\n",
    "                file_queue.task_done()\n",
    "                break\n",
    "                \n",
    "            print(f\"[INFO] Processing file: {item['path']}\")\n",
    "            name = item[\"name\"]\n",
    "            ext = \".\" + name.split(\".\")[-1] if \".\" in name else \"\"\n",
    "\n",
    "            if name in skip_files or ext.lower() in skip_extensions:\n",
    "                file_queue.task_done()\n",
    "                continue\n",
    "\n",
    "            file_content = get_file_content(item[\"path\"])\n",
    "\n",
    "            with file_data_lock:\n",
    "                file_data.append({\n",
    "                    \"name\": name,\n",
    "                    \"size\": item[\"size\"],\n",
    "                    \"html_url\": item[\"html_url\"],\n",
    "                    \"path\": item[\"path\"],\n",
    "                    \"content\": file_content\n",
    "                })\n",
    "\n",
    "            if name in [\"package.json\", \"pom.xml\", \"requirements.txt\"]:\n",
    "                with dependencies_lock:\n",
    "                    dependencies.append(item[\"path\"])\n",
    "                    \n",
    "            file_queue.task_done()\n",
    "\n",
    "    threads = []\n",
    "    for i in range(max_threads):\n",
    "        t = threading.Thread(target=process_file_worker)\n",
    "        t.start()\n",
    "        threads.append(t)\n",
    "\n",
    "    for item in repo_structure:\n",
    "        if item[\"type\"] == \"dir\":\n",
    "            sub_file_data, sub_dependencies = analyze_repo(item[\"path\"])\n",
    "            file_data.extend(sub_file_data)\n",
    "            dependencies.extend(sub_dependencies)\n",
    "        elif item[\"type\"] == \"file\":\n",
    "            file_queue.put(item)\n",
    "\n",
    "    file_queue.join()\n",
    "    \n",
    "    for i in range(max_threads):\n",
    "        file_queue.put(None)\n",
    "    for t in threads:\n",
    "        t.join()\n",
    "\n",
    "    return file_data, dependencies"
   ]
  },
  {
   "cell_type": "code",
   "execution_count": 10,
   "metadata": {},
   "outputs": [],
   "source": [
    "def generate_report():\n",
    "    files, dep_files = analyze_repo()\n",
    "    dependencies = {file: get_file_content(file) for file in dep_files}\n",
    "\n",
    "    report = {\n",
    "        \"repo\": GITHUB_REPO,\n",
    "        \"total_files\": len(files),\n",
    "        # \"largest_files\": sorted(files, key=lambda x: x[\"size\"], reverse=True)[:5],\n",
    "        \"files\": files,\n",
    "        \"dependencies\": dependencies\n",
    "    }\n",
    "\n",
    "    repo_scan_report_path = os.path.join(output_dir, \"repo_scan_report.json\")\n",
    "    with open(repo_scan_report_path, \"w\") as f:\n",
    "        json.dump(report, f, indent=4)\n",
    "\n",
    "    print(\"[INFO] Scan Completed: Report saved as repo_scan_report.json\")"
   ]
  },
  {
   "cell_type": "code",
   "execution_count": 11,
   "metadata": {},
   "outputs": [
    {
     "name": "stdout",
     "output_type": "stream",
     "text": [
      "[INFO] Processing file: .gitignore[INFO] Processing file: README.md\n",
      "\n",
      "[INFO] Processing file: api/controllers/auth.controller.js[INFO] Processing file: api/controllers/listing.controller.js\n",
      "[INFO] Processing file: api/controllers/razorpay.controller.js\n",
      "[INFO] Processing file: api/controllers/request.controller.js\n",
      "[INFO] Processing file: api/controllers/review.controller.js\n",
      "[INFO] Processing file: api/controllers/tenant.controller.js\n",
      "[INFO] Processing file: api/controllers/user.controller.js\n",
      "[INFO] Processing file: api/controllers/vendor.controller.js\n",
      "\n",
      "[INFO] Processing file: api/index.js\n",
      "[INFO] Processing file: api/models/listing.model.js[INFO] Processing file: api/models/request.model.js\n",
      "[INFO] Processing file: api/models/review.model.js\n",
      "[INFO] Processing file: api/models/tenant.model.js\n",
      "[INFO] Processing file: api/models/user.model.js\n",
      "[INFO] Processing file: api/models/vendor.model.js\n",
      "\n",
      "[INFO] Processing file: api/routes/auth.route.js\n",
      "[INFO] Processing file: api/routes/listing.route.js\n",
      "[INFO] Processing file: api/routes/razorpay.route.js\n",
      "[INFO] Processing file: api/routes/request.route.js\n",
      "[INFO] Processing file: api/routes/review.route.js\n",
      "[INFO] Processing file: api/routes/tenant.route.js\n",
      "[INFO] Processing file: api/routes/user.route.js\n",
      "[INFO] Processing file: api/routes/vendor.route.js\n",
      "[INFO] Processing file: api/utils/error.js[INFO] Processing file: api/utils/verifyUser.js\n",
      "\n",
      "[INFO] Processing file: client/.eslintrc.cjs[INFO] Processing file: client/.gitignore\n",
      "[INFO] Processing file: client/README.md\n",
      "[INFO] Processing file: client/index.html\n",
      "[INFO] Processing file: client/main-logo.png\n",
      "[INFO] Processing file: client/package-lock.json\n",
      "[INFO] Processing file: client/package.json\n",
      "[INFO] Processing file: client/postcss.config.js\n",
      "\n",
      "[INFO] Processing file: client/src/App.jsx\n",
      "[INFO] Processing file: client/src/components/About.jsx[INFO] Processing file: client/src/components/Card.jsx\n",
      "[INFO] Processing file: client/src/components/CommentForm.jsx\n",
      "[INFO] Processing file: client/src/components/CommentSection.jsx\n",
      "[INFO] Processing file: client/src/components/Footer.jsx\n",
      "[INFO] Processing file: client/src/components/Header.jsx\n",
      "\n",
      "[INFO] Processing file: client/src/components/LandlordContact.jsx\n",
      "[INFO] Processing file: client/src/components/Loader.jsx\n",
      "[INFO] Processing file: client/src/components/Map.jsx\n",
      "[INFO] Processing file: client/src/components/MapSearch.jsx\n",
      "[INFO] Processing file: client/src/components/OAuth.jsx\n",
      "[INFO] Processing file: client/src/components/PaymentButton.jsx\n",
      "[INFO] Processing file: client/src/components/PrivateRoute.jsx\n",
      "[INFO] Processing file: client/src/components/SearchBar.css\n",
      "[INFO] Processing file: client/src/components/SearchBar.jsx\n",
      "[INFO] Processing file: client/src/components/Statistics.jsx\n",
      "[INFO] Processing file: client/src/components/logo-png.png\n",
      "[INFO] Processing file: client/src/firebase.js\n",
      "[INFO] Processing file: client/src/index.css\n",
      "[INFO] Processing file: client/src/main.jsx\n",
      "[INFO] Processing file: client/src/pages/About.jsx\n",
      "[INFO] Processing file: client/src/pages/BuildProfile.jsx\n",
      "[INFO] Processing file: client/src/pages/Land.jsx\n",
      "[INFO] Processing file: client/src/pages/Profile.jsx\n",
      "[INFO] Processing file: client/src/pages/Property.jsx\n",
      "[INFO] Processing file: client/src/pages/RegisterVendor.jsx\n",
      "[INFO] Processing file: client/src/pages/Search.jsx\n",
      "[INFO] Processing file: client/src/pages/SignIn.jsx\n",
      "[INFO] Processing file: client/src/pages/SignUp.jsx\n",
      "[INFO] Processing file: client/src/pages/login-bg.jpg\n",
      "[INFO] Processing file: client/src/pages/profile.css\n",
      "[INFO] Processing file: client/src/pages/property.css\n",
      "[INFO] Processing file: client/src/pages/search.css\n",
      "[INFO] Processing file: client/src/pages/userDash/Shownest.jsx\n",
      "[INFO] Processing file: client/src/pages/userDash/Showstatus.jsx\n",
      "[INFO] Processing file: client/src/pages/userDash/Side.jsx\n",
      "[INFO] Processing file: client/src/pages/userDash/Yourlisting.jsx\n",
      "[INFO] Processing file: client/src/pages/userDash/side.css\n",
      "[INFO] Processing file: client/src/pages/vend.css\n",
      "[INFO] Processing file: client/src/pages/vendor/Dash.css\n",
      "[INFO] Processing file: client/src/pages/vendor/Dash.jsx\n",
      "[INFO] Processing file: client/src/pages/vendor/Showlist.jsx\n",
      "[INFO] Processing file: client/src/pages/vendor/Showtenant.jsx\n",
      "[INFO] Processing file: client/src/pages/vendor/showlist.css\n",
      "[INFO] Processing file: client/src/pages/video.mp4\n",
      "[INFO] Processing file: client/src/redux/store.js\n",
      "[INFO] Processing file: client/src/redux/user/userSlice.js\n",
      "[INFO] Processing file: client/src/url.jsx\n",
      "[INFO] Processing file: client/tailwind.config.js[INFO] Processing file: client/vite.config.js\n",
      "\n",
      "[INFO] Processing file: package-lock.json\n",
      "[INFO] Processing file: package.json\n",
      "[INFO] Scan Completed: Report saved as repo_scan_report.json\n"
     ]
    }
   ],
   "source": [
    "generate_report()"
   ]
  },
  {
   "cell_type": "code",
   "execution_count": null,
   "metadata": {},
   "outputs": [],
   "source": []
  }
 ],
 "metadata": {
  "kernelspec": {
   "display_name": "venv",
   "language": "python",
   "name": "python3"
  },
  "language_info": {
   "codemirror_mode": {
    "name": "ipython",
    "version": 3
   },
   "file_extension": ".py",
   "mimetype": "text/x-python",
   "name": "python",
   "nbconvert_exporter": "python",
   "pygments_lexer": "ipython3",
   "version": "3.11.9"
  }
 },
 "nbformat": 4,
 "nbformat_minor": 2
}

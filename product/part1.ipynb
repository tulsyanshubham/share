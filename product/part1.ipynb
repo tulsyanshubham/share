{
 "cells": [
  {
   "cell_type": "code",
   "execution_count": 11,
   "metadata": {},
   "outputs": [],
   "source": [
    "# pip install requests"
   ]
  },
  {
   "cell_type": "code",
   "execution_count": 12,
   "metadata": {},
   "outputs": [],
   "source": [
    "import requests\n",
    "import json\n",
    "import os\n",
    "from requests.utils import quote\n"
   ]
  },
  {
   "cell_type": "code",
   "execution_count": 13,
   "metadata": {},
   "outputs": [],
   "source": [
    "output_dir = \"output\"\n",
    "os.makedirs(output_dir, exist_ok=True)"
   ]
  },
  {
   "cell_type": "code",
   "execution_count": 14,
   "metadata": {},
   "outputs": [],
   "source": [
    "GITHUB_REPO = \"tulsyanshubham/TipyDo-Backend\"\n",
    "GITHUB_TOKEN = os.getenv(\"GITHUB_PAT\")\n",
    "HEADERS = {\"Authorization\": f\"token {GITHUB_TOKEN}\"}"
   ]
  },
  {
   "cell_type": "code",
   "execution_count": 15,
   "metadata": {},
   "outputs": [
    {
     "name": "stdout",
     "output_type": "stream",
     "text": [
      "Default branch: main\n"
     ]
    }
   ],
   "source": [
    "def get_default_branch():\n",
    "    url = f\"https://api.github.com/repos/{GITHUB_REPO}\"\n",
    "    response = requests.get(url, headers=HEADERS)\n",
    "    if response.status_code == 200:\n",
    "        return response.json().get(\"default_branch\", \"main\")\n",
    "    return \"main\"\n",
    "\n",
    "DEFAULT_BRANCH = get_default_branch()\n",
    "print(f\"Default branch: {DEFAULT_BRANCH}\")\n"
   ]
  },
  {
   "cell_type": "code",
   "execution_count": 16,
   "metadata": {},
   "outputs": [],
   "source": [
    "def get_repo_contents(path=\"\"):\n",
    "    url = f\"https://api.github.com/repos/{GITHUB_REPO}/contents/{quote(path)}\"\n",
    "    response = requests.get(url, headers=HEADERS)\n",
    "    \n",
    "    if response.status_code == 200:\n",
    "        return response.json()\n",
    "    else:\n",
    "        print(f\"[ERROR] Failed to fetch {url}: {response.status_code}\")\n",
    "        return []\n"
   ]
  },
  {
   "cell_type": "code",
   "execution_count": 17,
   "metadata": {},
   "outputs": [],
   "source": [
    "def get_file_content(file_path):\n",
    "    url = f\"https://raw.githubusercontent.com/{GITHUB_REPO}/{DEFAULT_BRANCH}/{file_path}\"\n",
    "    response = requests.get(url)\n",
    "\n",
    "    if response.status_code == 200:\n",
    "        return response.text\n",
    "    return None\n"
   ]
  },
  {
   "cell_type": "code",
   "execution_count": 18,
   "metadata": {},
   "outputs": [],
   "source": [
    "def analyze_repo(path=\"\"):\n",
    "    repo_structure = get_repo_contents(path)\n",
    "    file_data = []\n",
    "    dependencies = []\n",
    "\n",
    "    skip_files = {\n",
    "        \".gitignore\", \"README.md\", \"LICENSE\", \".dockerignore\",\n",
    "        \".env\", \".editorconfig\", \"package-lock.json\", \"node_modules\"\n",
    "    }\n",
    "    skip_extensions = {\n",
    "        \".png\", \".jpg\", \".jpeg\", \".gif\", \".ico\", \".pdf\", \".svg\",\n",
    "        \".zip\", \".tar\", \".gz\", \".exe\", \".dll\", \".so\", \".jar\",\n",
    "        \".bin\", \".lock\"\n",
    "    }\n",
    "\n",
    "    for item in repo_structure:\n",
    "        if item[\"type\"] == \"dir\":\n",
    "            sub_file_data, sub_dependencies = analyze_repo(item[\"path\"])\n",
    "            file_data.extend(sub_file_data)\n",
    "            dependencies.extend(sub_dependencies)\n",
    "\n",
    "        elif item[\"type\"] == \"file\":\n",
    "            print(f\"[INFO] Processing file: {item['path']}\")\n",
    "            name = item[\"name\"]\n",
    "            ext = \".\" + name.split(\".\")[-1] if \".\" in name else \"\"\n",
    "\n",
    "            # Skip unneeded files\n",
    "            if name in skip_files or ext.lower() in skip_extensions:\n",
    "                continue\n",
    "\n",
    "            file_content = get_file_content(item[\"path\"])\n",
    "\n",
    "            file_data.append({\n",
    "                \"name\": name,\n",
    "                \"size\": item[\"size\"],\n",
    "                \"html_url\": item[\"html_url\"],\n",
    "                \"path\": item[\"path\"],\n",
    "                \"content\": file_content\n",
    "            })\n",
    "\n",
    "            if name in [\"package.json\", \"pom.xml\", \"requirements.txt\"]:\n",
    "                dependencies.append(item[\"path\"])\n",
    "\n",
    "    return file_data, dependencies\n"
   ]
  },
  {
   "cell_type": "code",
   "execution_count": 19,
   "metadata": {},
   "outputs": [],
   "source": [
    "def generate_report():\n",
    "    files, dep_files = analyze_repo()\n",
    "    dependencies = {file: get_file_content(file) for file in dep_files}\n",
    "\n",
    "    report = {\n",
    "        \"repo\": GITHUB_REPO,\n",
    "        \"total_files\": len(files),\n",
    "        # \"largest_files\": sorted(files, key=lambda x: x[\"size\"], reverse=True)[:5],\n",
    "        \"files\": files,\n",
    "        \"dependencies\": dependencies\n",
    "    }\n",
    "\n",
    "    repo_scan_report_path = os.path.join(output_dir, \"repo_scan_report.json\")\n",
    "    with open(repo_scan_report_path, \"w\") as f:\n",
    "        json.dump(report, f, indent=4)\n",
    "\n",
    "    print(\"[INFO] Scan Completed: Report saved as repo_scan_report.json\")\n"
   ]
  },
  {
   "cell_type": "code",
   "execution_count": 20,
   "metadata": {},
   "outputs": [
    {
     "name": "stdout",
     "output_type": "stream",
     "text": [
      "[INFO] Processing file: .gitignore\n",
      "[INFO] Processing file: db.js\n",
      "[INFO] Processing file: index.js\n",
      "[INFO] Processing file: middleware/fetchuser.js\n",
      "[INFO] Processing file: modals/count.js\n",
      "[INFO] Processing file: modals/employee.js\n",
      "[INFO] Processing file: modals/manager.js\n",
      "[INFO] Processing file: modals/session.js\n",
      "[INFO] Processing file: package-lock.json\n",
      "[INFO] Processing file: package.json\n",
      "[INFO] Scan Completed: Report saved as repo_scan_report.json\n"
     ]
    }
   ],
   "source": [
    "generate_report()"
   ]
  },
  {
   "cell_type": "code",
   "execution_count": null,
   "metadata": {},
   "outputs": [],
   "source": []
  }
 ],
 "metadata": {
  "kernelspec": {
   "display_name": "venv",
   "language": "python",
   "name": "python3"
  },
  "language_info": {
   "codemirror_mode": {
    "name": "ipython",
    "version": 3
   },
   "file_extension": ".py",
   "mimetype": "text/x-python",
   "name": "python",
   "nbconvert_exporter": "python",
   "pygments_lexer": "ipython3",
   "version": "3.11.9"
  }
 },
 "nbformat": 4,
 "nbformat_minor": 2
}

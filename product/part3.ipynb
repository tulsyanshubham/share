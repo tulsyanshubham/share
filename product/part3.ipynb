{
 "cells": [
  {
   "cell_type": "code",
   "execution_count": 1,
   "id": "7a6a42bc",
   "metadata": {},
   "outputs": [],
   "source": [
    "import os\n",
    "import json\n",
    "import re\n",
    "from groq import Groq"
   ]
  },
  {
   "cell_type": "code",
   "execution_count": 2,
   "id": "2dcc9c22",
   "metadata": {},
   "outputs": [],
   "source": [
    "output_dir = \"output\"\n",
    "client = Groq(api_key=os.environ.get(\"GROQ_API_KEY\"))"
   ]
  },
  {
   "cell_type": "code",
   "execution_count": 3,
   "metadata": {},
   "outputs": [],
   "source": [
    "def call_groq(prompt):\n",
    "    chat_completion = client.chat.completions.create(\n",
    "        messages=[{\"role\": \"user\", \"content\": [{\"type\": \"text\", \"text\": prompt}]}],\n",
    "        model=\"llama3-8b-8192\",\n",
    "    )\n",
    "    return chat_completion.choices[0].message.content"
   ]
  },
  {
   "cell_type": "code",
   "execution_count": 4,
   "metadata": {},
   "outputs": [],
   "source": [
    "with open(os.path.join(output_dir, \"microservice_splits.json\"), \"r\") as f:\n",
    "    microservices = json.load(f)\n",
    "\n",
    "with open(os.path.join(output_dir, \"file_descriptions.json\"), \"r\") as f:\n",
    "    file_descriptions = json.load(f)\n",
    "    described_files = list(file_descriptions.keys())"
   ]
  },
  {
   "cell_type": "code",
   "execution_count": 5,
   "metadata": {},
   "outputs": [],
   "source": [
    "prompt = f\"\"\"\n",
    "You are an expert software architect.\n",
    "\n",
    "Based on the following information:\n",
    "1. Microservice splits for each original file:\n",
    "{json.dumps(microservices, indent=2)}\n",
    "\n",
    "2. List of all newly generated files after splitting:\n",
    "{json.dumps(described_files, indent=2)}\n",
    "\n",
    "Your task is to generate a **clean, organized folder and file structure** for a microservices-based architecture.\n",
    "\n",
    "### Rules:\n",
    "- Use **only the filenames** from the list of newly generated files.\n",
    "- Use folders **only if the file paths suggest them clearly**, or if multiple files belong to a common module (e.g., `auth`, `db`, `utils`, etc.).\n",
    "- If a file does not belong to a group, place it at the root level.\n",
    "- Do **not** create new folders unless they are already implied in the file path or there's a clear grouping need.\n",
    "- Output must be a tree structure using the following format.\n",
    "- No additional text, no comments, no blank lines.\n",
    "\n",
    "### Output Format (Markdown):\n",
    "```\n",
    "folder_name\n",
    "  └── file_name.py\n",
    "standalone_file.py\n",
    "```\n",
    "\n",
    "**Strictly follow the output format. Use exact file names and folder hints from the paths above.**\n",
    "\"\"\""
   ]
  },
  {
   "cell_type": "code",
   "execution_count": 6,
   "id": "68a3d262",
   "metadata": {},
   "outputs": [],
   "source": [
    "def clean_code(response_text: str):\n",
    "    response_text = response_text.strip()\n",
    "    \n",
    "    parts = response_text.split(\"```\")\n",
    "    if len(parts) > 1:\n",
    "        response_text = parts[1].strip()\n",
    "    \n",
    "    if response_text.lower().startswith(\"python\"):\n",
    "        response_text = response_text.split(\"\\n\", 1)[-1].strip()\n",
    "    \n",
    "    if \"Note that\" in response_text:\n",
    "        response_text = response_text.split(\"Note that\", 1)[0].strip()\n",
    "    \n",
    "    response_text = response_text.replace(\"```\", \"\").strip()\n",
    "    \n",
    "    return response_text"
   ]
  },
  {
   "cell_type": "code",
   "execution_count": 7,
   "metadata": {},
   "outputs": [
    {
     "name": "stdout",
     "output_type": "stream",
     "text": [
      "[INFO] New microservices structure saved to: output\\new_microservice_structure.txt\n"
     ]
    }
   ],
   "source": [
    "new_structure = call_groq(prompt)\n",
    "\n",
    "output_path = os.path.join(output_dir, \"new_microservice_structure.txt\")\n",
    "new_structure = clean_code(new_structure)\n",
    "with open(output_path, \"w\", encoding=\"utf-8\") as f:\n",
    "    f.write(new_structure)\n",
    "\n",
    "print(f\"[INFO] New microservices structure saved to: {output_path}\")"
   ]
  },
  {
   "cell_type": "code",
   "execution_count": null,
   "id": "5bc81c60",
   "metadata": {},
   "outputs": [],
   "source": []
  }
 ],
 "metadata": {
  "kernelspec": {
   "display_name": "venv",
   "language": "python",
   "name": "python3"
  },
  "language_info": {
   "codemirror_mode": {
    "name": "ipython",
    "version": 3
   },
   "file_extension": ".py",
   "mimetype": "text/x-python",
   "name": "python",
   "nbconvert_exporter": "python",
   "pygments_lexer": "ipython3",
   "version": "3.11.9"
  }
 },
 "nbformat": 4,
 "nbformat_minor": 5
}

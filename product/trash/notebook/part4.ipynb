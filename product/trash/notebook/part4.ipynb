{
 "cells": [
  {
   "cell_type": "code",
   "execution_count": 1,
   "metadata": {},
   "outputs": [],
   "source": [
    "# pip install reportlab"
   ]
  },
  {
   "cell_type": "code",
   "execution_count": 2,
   "metadata": {},
   "outputs": [],
   "source": [
    "import json\n",
    "from reportlab.lib.pagesizes import A4\n",
    "from reportlab.platypus import SimpleDocTemplate, Paragraph, Spacer, Table, TableStyle, Preformatted\n",
    "from reportlab.lib.styles import getSampleStyleSheet, ParagraphStyle\n",
    "from reportlab.lib import colors\n",
    "import os"
   ]
  },
  {
   "cell_type": "code",
   "execution_count": 3,
   "metadata": {},
   "outputs": [],
   "source": [
    "output_dir = \"output\"\n",
    "\n",
    "with open(os.path.join(output_dir, \"repo_scan_report.json\")) as f:\n",
    "    repo_data = json.load(f)\n",
    "\n",
    "with open(os.path.join(output_dir, \"microservice_splits.json\")) as f:\n",
    "    microservices = json.load(f)\n",
    "\n",
    "with open(os.path.join(output_dir, \"file_descriptions.json\")) as f:\n",
    "    file_descriptions = json.load(f)\n",
    "\n",
    "with open(os.path.join(output_dir, \"new_microservice_structure.txt\"), encoding=\"utf-8\") as f:\n",
    "    folder_structure = f.read()"
   ]
  },
  {
   "cell_type": "code",
   "execution_count": 4,
   "metadata": {},
   "outputs": [],
   "source": [
    "folder_structure = folder_structure.replace(\"📁\", \"\")\n",
    "folder_structure = folder_structure.replace(\"└──\", \"--\")"
   ]
  },
  {
   "cell_type": "code",
   "execution_count": 5,
   "metadata": {},
   "outputs": [],
   "source": [
    "styles = getSampleStyleSheet()\n",
    "styleN = styles[\"Normal\"]\n",
    "styleH = styles[\"Heading1\"]\n",
    "\n",
    "wrap_style = ParagraphStyle(\n",
    "    name=\"Wrapped\",\n",
    "    fontName=\"Helvetica\",\n",
    "    fontSize=9,\n",
    "    leading=11\n",
    ")\n",
    "\n",
    "def create_table(data, col_names, col_widths=None):\n",
    "    table_data = [col_names] + data\n",
    "    wrapped_data = [\n",
    "        [Paragraph(str(cell), wrap_style) for cell in row]\n",
    "        for row in table_data\n",
    "    ]\n",
    "    \n",
    "    table = Table(wrapped_data, colWidths=col_widths, repeatRows=1)\n",
    "    table.setStyle(TableStyle([\n",
    "        ('BACKGROUND', (0, 0), (-1, 0), colors.lightgrey),\n",
    "        ('TEXTCOLOR', (0, 0), (-1, 0), colors.black),\n",
    "        ('FONTNAME', (0, 0), (-1, 0), 'Helvetica-Bold'),\n",
    "        ('FONTSIZE', (0, 0), (-1, -1), 9),\n",
    "        ('BOTTOMPADDING', (0, 0), (-1, 0), 6),\n",
    "        ('GRID', (0, 0), (-1, -1), 0.25, colors.grey),\n",
    "        ('VALIGN', (0, 0), (-1, -1), 'TOP'),\n",
    "    ]))\n",
    "    return table"
   ]
  },
  {
   "cell_type": "code",
   "execution_count": 6,
   "metadata": {},
   "outputs": [],
   "source": [
    "pdf_path = os.path.join(output_dir, \"microservice_report.pdf\")\n",
    "doc = SimpleDocTemplate(pdf_path, pagesize=A4)\n",
    "story = []"
   ]
  },
  {
   "cell_type": "code",
   "execution_count": 7,
   "metadata": {},
   "outputs": [],
   "source": [
    "repo_name = repo_data.get(\"repo\", \"Unknown Repo\")\n",
    "story.append(Paragraph(f\"<b>Repository:</b> {repo_name}\", styleN))\n",
    "story.append(Spacer(1, 12))"
   ]
  },
  {
   "cell_type": "code",
   "execution_count": 8,
   "metadata": {},
   "outputs": [],
   "source": [
    "story.append(Paragraph(\"📂 Repository Files\", styleH))\n",
    "repo_table_data = [[file[\"name\"], file[\"size\"], file[\"path\"]] for file in repo_data[\"files\"]]\n",
    "story.append(create_table(repo_table_data, [\"Name\", \"Size (bytes)\", \"Path\"], col_widths=[150, 80, 280]))\n",
    "story.append(Spacer(1, 20))"
   ]
  },
  {
   "cell_type": "code",
   "execution_count": 9,
   "metadata": {},
   "outputs": [],
   "source": [
    "story.append(Paragraph(\"🔁 Microservice Splits\", styleH))\n",
    "splits_table_data = [[k, \", \".join(v)] for k, v in microservices.items()]\n",
    "story.append(create_table(splits_table_data, [\"Original File\", \"Split Files\"], col_widths=[150, 360]))\n",
    "story.append(Spacer(1, 20))"
   ]
  },
  {
   "cell_type": "code",
   "execution_count": 10,
   "metadata": {},
   "outputs": [],
   "source": [
    "story.append(Paragraph(\"🧾 File Descriptions\", styleH))\n",
    "desc_table_data = [[k, v] for k, v in file_descriptions.items()]\n",
    "story.append(create_table(desc_table_data, [\"File Name\", \"Description\"], col_widths=[150, 360]))\n",
    "story.append(Spacer(1, 20))"
   ]
  },
  {
   "cell_type": "code",
   "execution_count": 11,
   "metadata": {},
   "outputs": [],
   "source": [
    "story.append(Paragraph(\"🗂️ New Microservice Structure\", styleH))\n",
    "story.append(Spacer(1, 8))\n",
    "story.append(Preformatted(folder_structure, style=wrap_style))  # ✅ This preserves formatting"
   ]
  },
  {
   "cell_type": "code",
   "execution_count": 12,
   "metadata": {},
   "outputs": [
    {
     "name": "stdout",
     "output_type": "stream",
     "text": [
      "[✅] PDF report generated at: output\\microservice_report.pdf\n"
     ]
    }
   ],
   "source": [
    "doc.build(story)\n",
    "print(f\"[✅] PDF report generated at: {pdf_path}\")"
   ]
  },
  {
   "cell_type": "code",
   "execution_count": null,
   "metadata": {},
   "outputs": [],
   "source": []
  }
 ],
 "metadata": {
  "kernelspec": {
   "display_name": "venv",
   "language": "python",
   "name": "python3"
  },
  "language_info": {
   "codemirror_mode": {
    "name": "ipython",
    "version": 3
   },
   "file_extension": ".py",
   "mimetype": "text/x-python",
   "name": "python",
   "nbconvert_exporter": "python",
   "pygments_lexer": "ipython3",
   "version": "3.11.9"
  }
 },
 "nbformat": 4,
 "nbformat_minor": 2
}

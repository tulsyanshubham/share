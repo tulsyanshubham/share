{
 "cells": [
  {
   "cell_type": "code",
   "execution_count": 1,
   "id": "2838f582",
   "metadata": {},
   "outputs": [],
   "source": [
    "from groq import Groq\n",
    "import os"
   ]
  },
  {
   "cell_type": "code",
   "execution_count": 2,
   "id": "5ea201d2",
   "metadata": {},
   "outputs": [],
   "source": [
    "apiKeys = [\n",
    "    os.environ.get(\"GROQ_API_KEY_1\"),\n",
    "    os.environ.get(\"GROQ_API_KEY_2\"),\n",
    "    os.environ.get(\"GROQ_API_KEY_3\"),\n",
    "    os.environ.get(\"GROQ_API_KEY_4\"),\n",
    "    os.environ.get(\"GROQ_API_KEY_5\"),\n",
    "    os.environ.get(\"GROQ_API_KEY_6\"),\n",
    "    os.environ.get(\"GROQ_API_KEY_7\"),\n",
    "    os.environ.get(\"GROQ_API_KEY_8\"),\n",
    "]"
   ]
  },
  {
   "cell_type": "code",
   "execution_count": 3,
   "id": "72723346",
   "metadata": {},
   "outputs": [],
   "source": [
    "groqClients = [Groq(api_key=key) for key in apiKeys]"
   ]
  },
  {
   "cell_type": "code",
   "execution_count": 4,
   "id": "a955b982",
   "metadata": {},
   "outputs": [],
   "source": [
    "def check_api_key_status(client, index):\n",
    "    try:\n",
    "        response = client.chat.completions.create(\n",
    "            model=\"llama3-8b-8192\",\n",
    "            messages=[{\"role\": \"user\", \"content\": \"hello\"}]\n",
    "        )\n",
    "        # print(response.choices[0].message.content)\n",
    "        print(f\"[✅] API Key {index+1} is working fine.\")\n",
    "    except Exception as e:\n",
    "        error_str = str(e).lower()\n",
    "        print(f\"[⚠️] API Key {index+1} error: {e}\")"
   ]
  },
  {
   "cell_type": "code",
   "execution_count": 5,
   "id": "6be229e6",
   "metadata": {},
   "outputs": [
    {
     "name": "stdout",
     "output_type": "stream",
     "text": [
      "[✅] API Key 1 is working fine.\n",
      "[✅] API Key 2 is working fine.\n",
      "[✅] API Key 3 is working fine.\n",
      "[✅] API Key 4 is working fine.\n",
      "[✅] API Key 5 is working fine.\n",
      "[✅] API Key 6 is working fine.\n",
      "[✅] API Key 7 is working fine.\n",
      "[✅] API Key 8 is working fine.\n"
     ]
    }
   ],
   "source": [
    "for i, client in enumerate(groqClients):\n",
    "    check_api_key_status(client, i)"
   ]
  }
 ],
 "metadata": {
  "kernelspec": {
   "display_name": "venv",
   "language": "python",
   "name": "python3"
  },
  "language_info": {
   "codemirror_mode": {
    "name": "ipython",
    "version": 3
   },
   "file_extension": ".py",
   "mimetype": "text/x-python",
   "name": "python",
   "nbconvert_exporter": "python",
   "pygments_lexer": "ipython3",
   "version": "3.11.9"
  }
 },
 "nbformat": 4,
 "nbformat_minor": 5
}
